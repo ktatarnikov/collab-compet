{
 "cells": [
  {
   "cell_type": "markdown",
   "metadata": {},
   "source": [
    "# Collaboration and Competition\n",
    "\n",
    "---\n",
    "\n",
    "In this notebook, you will learn how to use the Unity ML-Agents environment for the third project of the [Deep Reinforcement Learning Nanodegree](https://www.udacity.com/course/deep-reinforcement-learning-nanodegree--nd893) program.\n",
    "\n",
    "### 1. Start the Environment\n",
    "\n",
    "We begin by importing the necessary packages.  If the code cell below returns an error, please revisit the project instructions to double-check that you have installed [Unity ML-Agents](https://github.com/Unity-Technologies/ml-agents/blob/master/docs/Installation.md) and [NumPy](http://www.numpy.org/)."
   ]
  },
  {
   "cell_type": "code",
   "execution_count": 1,
   "metadata": {},
   "outputs": [],
   "source": [
    "from unityagents import UnityEnvironment\n",
    "import numpy as np\n",
    "import torch\n",
    "from agent_config import AgentConfig\n",
    "from plots import Plots\n",
    "from train_runner import TrainRunner\n",
    "from test_runner import TestRunner"
   ]
  },
  {
   "cell_type": "markdown",
   "metadata": {},
   "source": [
    "Next, we will start the environment!  **_Before running the code cell below_**, change the `file_name` parameter to match the location of the Unity environment that you downloaded.\n",
    "\n",
    "- **Mac**: `\"path/to/Tennis.app\"`\n",
    "- **Windows** (x86): `\"path/to/Tennis_Windows_x86/Tennis.exe\"`\n",
    "- **Windows** (x86_64): `\"path/to/Tennis_Windows_x86_64/Tennis.exe\"`\n",
    "- **Linux** (x86): `\"path/to/Tennis_Linux/Tennis.x86\"`\n",
    "- **Linux** (x86_64): `\"path/to/Tennis_Linux/Tennis.x86_64\"`\n",
    "- **Linux** (x86, headless): `\"path/to/Tennis_Linux_NoVis/Tennis.x86\"`\n",
    "- **Linux** (x86_64, headless): `\"path/to/Tennis_Linux_NoVis/Tennis.x86_64\"`\n",
    "\n",
    "For instance, if you are using a Mac, then you downloaded `Tennis.app`.  If this file is in the same folder as the notebook, then the line below should appear as follows:\n",
    "```\n",
    "env = UnityEnvironment(file_name=\"Tennis.app\")\n",
    "```"
   ]
  },
  {
   "cell_type": "code",
   "execution_count": 2,
   "metadata": {},
   "outputs": [
    {
     "name": "stderr",
     "output_type": "stream",
     "text": [
      "INFO:unityagents:\n",
      "'Academy' started successfully!\n",
      "Unity Academy name: Academy\n",
      "        Number of Brains: 1\n",
      "        Number of External Brains : 1\n",
      "        Lesson number : 0\n",
      "        Reset Parameters :\n",
      "\t\t\n",
      "Unity brain name: TennisBrain\n",
      "        Number of Visual Observations (per agent): 0\n",
      "        Vector Observation space type: continuous\n",
      "        Vector Observation space size (per agent): 8\n",
      "        Number of stacked Vector Observation: 3\n",
      "        Vector Action space type: continuous\n",
      "        Vector Action space size (per agent): 2\n",
      "        Vector Action descriptions: , \n"
     ]
    }
   ],
   "source": [
    "env = UnityEnvironment(file_name=\"./Tennis_Linux/Tennis.x86_64\")"
   ]
  },
  {
   "cell_type": "markdown",
   "metadata": {},
   "source": [
    "Environments contain **_brains_** which are responsible for deciding the actions of their associated agents. Here we check for the first brain available, and set it as the default brain we will be controlling from Python."
   ]
  },
  {
   "cell_type": "code",
   "execution_count": 3,
   "metadata": {},
   "outputs": [],
   "source": [
    "# get the default brain\n",
    "brain_name = env.brain_names[0]\n",
    "brain = env.brains[brain_name]"
   ]
  },
  {
   "cell_type": "markdown",
   "metadata": {},
   "source": [
    "### 2. Examine the State and Action Spaces\n",
    "\n",
    "In this environment, two agents control rackets to bounce a ball over a net. If an agent hits the ball over the net, it receives a reward of +0.1.  If an agent lets a ball hit the ground or hits the ball out of bounds, it receives a reward of -0.01.  Thus, the goal of each agent is to keep the ball in play.\n",
    "\n",
    "The observation space consists of 8 variables corresponding to the position and velocity of the ball and racket. Two continuous actions are available, corresponding to movement toward (or away from) the net, and jumping. \n",
    "\n",
    "Run the code cell below to print some information about the environment."
   ]
  },
  {
   "cell_type": "code",
   "execution_count": 4,
   "metadata": {},
   "outputs": [
    {
     "name": "stdout",
     "output_type": "stream",
     "text": [
      "Number of agents: 2\n",
      "Size of each action: 2\n",
      "There are 2 agents. Each observes a state with length: 24\n",
      "The state for the first agent looks like: [ 0.          0.          0.          0.          0.          0.\n",
      "  0.          0.          0.          0.          0.          0.\n",
      "  0.          0.          0.          0.         -6.65278625 -1.5\n",
      " -0.          0.          6.83172083  6.         -0.          0.        ]\n"
     ]
    }
   ],
   "source": [
    "# reset the environment\n",
    "env_info = env.reset(train_mode=True)[brain_name]\n",
    "\n",
    "# number of agents \n",
    "num_agents = len(env_info.agents)\n",
    "print('Number of agents:', num_agents)\n",
    "\n",
    "# size of each action\n",
    "action_size = brain.vector_action_space_size\n",
    "print('Size of each action:', action_size)\n",
    "\n",
    "# examine the state space \n",
    "states = env_info.vector_observations\n",
    "state_size = states.shape[1]\n",
    "print('There are {} agents. Each observes a state with length: {}'.format(states.shape[0], state_size))\n",
    "print('The state for the first agent looks like:', states[0])"
   ]
  },
  {
   "cell_type": "markdown",
   "metadata": {},
   "source": [
    "### 3. Take Random Actions in the Environment\n",
    "\n",
    "In the next code cell, you will learn how to use the Python API to control the agents and receive feedback from the environment.\n",
    "\n",
    "Once this cell is executed, you will watch the agents' performance, if they select actions at random with each time step.  A window should pop up that allows you to observe the agents.\n",
    "\n",
    "Of course, as part of the project, you'll have to change the code so that the agents are able to use their experiences to gradually choose better actions when interacting with the environment!"
   ]
  },
  {
   "cell_type": "code",
   "execution_count": 5,
   "metadata": {},
   "outputs": [
    {
     "name": "stdout",
     "output_type": "stream",
     "text": [
      "Score (max over agents) from episode 1: 0.09000000171363354\n",
      "Score (max over agents) from episode 2: 0.09000000171363354\n",
      "Score (max over agents) from episode 3: 0.0\n",
      "Score (max over agents) from episode 4: 0.0\n",
      "Score (max over agents) from episode 5: 0.09000000171363354\n"
     ]
    }
   ],
   "source": [
    "for i in range(1, 6):                                      # play game for 5 episodes\n",
    "    env_info = env.reset(train_mode=False)[brain_name]     # reset the environment    \n",
    "    states = env_info.vector_observations                  # get the current state (for each agent)\n",
    "    scores = np.zeros(num_agents)                          # initialize the score (for each agent)\n",
    "    while True:\n",
    "        actions = np.random.randn(num_agents, action_size) # select an action (for each agent)\n",
    "        actions = np.clip(actions, -1, 1)                  # all actions between -1 and 1\n",
    "        env_info = env.step(actions)[brain_name]           # send all actions to tne environment\n",
    "        next_states = env_info.vector_observations         # get next state (for each agent)\n",
    "        rewards = env_info.rewards                         # get reward (for each agent)\n",
    "        dones = env_info.local_done                        # see if episode finished\n",
    "        scores += env_info.rewards                         # update the score (for each agent)\n",
    "        states = next_states                               # roll over states to next time step\n",
    "        if np.any(dones):                                  # exit loop if episode finished\n",
    "            break\n",
    "    print('Score (max over agents) from episode {}: {}'.format(i, np.max(scores)))"
   ]
  },
  {
   "cell_type": "markdown",
   "metadata": {},
   "source": [
    "When finished, you can close the environment."
   ]
  },
  {
   "cell_type": "code",
   "execution_count": 6,
   "metadata": {},
   "outputs": [],
   "source": [
    "env.close()"
   ]
  },
  {
   "cell_type": "markdown",
   "metadata": {},
   "source": [
    "### 4. It's Your Turn!\n",
    "\n",
    "Now it's your turn to train your own agent to solve the environment!  When training the environment, set `train_mode=True`, so that the line for resetting the environment looks like the following:\n",
    "```python\n",
    "env_info = env.reset(train_mode=True)[brain_name]\n",
    "```"
   ]
  },
  {
   "cell_type": "markdown",
   "metadata": {},
   "source": [
    "### 5. Training Agent\n",
    "\n",
    "To train the agent we are going to run the python class TrainRunner from train_main.py. The TrainRunner will train the networks and save them to files agent_<agent_index>_actor.pt and agent_<agent_index>_critic.pt. We will use single agent environment."
   ]
  },
  {
   "cell_type": "code",
   "execution_count": 2,
   "metadata": {},
   "outputs": [],
   "source": [
    "device = torch.device(\"cuda:0\" if torch.cuda.is_available() else \"cpu\")\n",
    "agent_config = AgentConfig(device=device,\n",
    "                           buffer_size=int(1e6),\n",
    "                           batch_size=64,\n",
    "                           gamma=0.99,\n",
    "                           tau=1e-3,\n",
    "                           lr_actor=5e-4,\n",
    "                           lr_critic=5e-4,\n",
    "                           eps=1.0,\n",
    "                           update_every=20,\n",
    "                           agent_count=2,\n",
    "                           state_size=24,\n",
    "                           action_size=2,\n",
    "                           random_seed=42)"
   ]
  },
  {
   "cell_type": "markdown",
   "metadata": {},
   "source": [
    "### 6. Hyperparameters"
   ]
  },
  {
   "cell_type": "markdown",
   "metadata": {},
   "source": [
    "- buffer_size: 1000000\n",
    "- batch_size:  64\n",
    "- gamma:       0.99\n",
    "- tau:         1e-3\n",
    "- lr_actor:    5e-4,\n",
    "- lr_critic:   5e-4,\n",
    "- eps:         1.0\n",
    "- update_every: 20\n",
    "- agent_count: 2\n",
    "- state_size:  24\n",
    "- action_size: 2\n",
    "- random_seed: 42"
   ]
  },
  {
   "cell_type": "code",
   "execution_count": 3,
   "metadata": {},
   "outputs": [
    {
     "name": "stderr",
     "output_type": "stream",
     "text": [
      "INFO:unityagents:\n",
      "'Academy' started successfully!\n",
      "Unity Academy name: Academy\n",
      "        Number of Brains: 1\n",
      "        Number of External Brains : 1\n",
      "        Lesson number : 0\n",
      "        Reset Parameters :\n",
      "\t\t\n",
      "Unity brain name: TennisBrain\n",
      "        Number of Visual Observations (per agent): 0\n",
      "        Vector Observation space type: continuous\n",
      "        Vector Observation space size (per agent): 8\n",
      "        Number of stacked Vector Observation: 3\n",
      "        Vector Action space type: continuous\n",
      "        Vector Action space size (per agent): 2\n",
      "        Vector Action descriptions: , \n"
     ]
    },
    {
     "name": "stdout",
     "output_type": "stream",
     "text": [
      "Episode 50\tAverage Score: 0.00\n",
      "Episode 100\tAverage Score: 0.01\n",
      "Episode 150\tAverage Score: 0.01\n",
      "Episode 200\tAverage Score: 0.01\n",
      "Episode 250\tAverage Score: 0.01\n",
      "Episode 300\tAverage Score: 0.01\n",
      "Episode 350\tAverage Score: 0.01\n",
      "Episode 400\tAverage Score: 0.03\n",
      "Episode 450\tAverage Score: 0.04\n",
      "Episode 500\tAverage Score: 0.04\n",
      "Episode 550\tAverage Score: 0.01\n",
      "Episode 600\tAverage Score: 0.00\n",
      "Episode 650\tAverage Score: 0.01\n",
      "Episode 700\tAverage Score: 0.01\n",
      "Episode 750\tAverage Score: 0.00\n",
      "Episode 800\tAverage Score: 0.01\n",
      "Episode 850\tAverage Score: 0.03\n",
      "Episode 900\tAverage Score: 0.05\n",
      "Episode 950\tAverage Score: 0.07\n",
      "Episode 1000\tAverage Score: 0.08\n",
      "Episode 1050\tAverage Score: 0.07\n",
      "Episode 1100\tAverage Score: 0.08\n",
      "Episode 1150\tAverage Score: 0.11\n",
      "Episode 1200\tAverage Score: 0.12\n",
      "Episode 1250\tAverage Score: 0.13\n",
      "Episode 1300\tAverage Score: 0.14\n",
      "Episode 1350\tAverage Score: 0.12\n",
      "Episode 1400\tAverage Score: 0.11\n",
      "Episode 1450\tAverage Score: 0.10\n",
      "Episode 1500\tAverage Score: 0.09\n",
      "Episode 1550\tAverage Score: 0.11\n",
      "Episode 1600\tAverage Score: 0.42\n",
      "Episode 1650\tAverage Score: 0.92\n"
     ]
    }
   ],
   "source": [
    "trainer = TrainRunner(config=agent_config,\n",
    "                      env_path=\"./Tennis_Linux/Tennis.x86_64\",\n",
    "                      checkpoint_path=\"./checkpoints\")\n",
    "scores = trainer.run()\n",
    "trainer.close()"
   ]
  },
  {
   "cell_type": "markdown",
   "metadata": {},
   "source": [
    "### 7. Training Scores"
   ]
  },
  {
   "cell_type": "code",
   "execution_count": 4,
   "metadata": {},
   "outputs": [
    {
     "data": {
      "image/png": "[encoded data removed]",
      "text/plain": [
       "<Figure size 432x288 with 1 Axes>"
      ]
     },
     "metadata": {
      "needs_background": "light"
     },
     "output_type": "display_data"
    }
   ],
   "source": [
    "Plots().plot_scores(scores)"
   ]
  },
  {
   "cell_type": "markdown",
   "metadata": {},
   "source": [
    "### 8. Testing the agent"
   ]
  },
  {
   "cell_type": "code",
   "execution_count": null,
   "metadata": {},
   "outputs": [
    {
     "name": "stderr",
     "output_type": "stream",
     "text": [
      "INFO:unityagents:\n",
      "'Academy' started successfully!\n",
      "Unity Academy name: Academy\n",
      "        Number of Brains: 1\n",
      "        Number of External Brains : 1\n",
      "        Lesson number : 0\n",
      "        Reset Parameters :\n",
      "\t\t\n",
      "Unity brain name: TennisBrain\n",
      "        Number of Visual Observations (per agent): 0\n",
      "        Vector Observation space type: continuous\n",
      "        Vector Observation space size (per agent): 8\n",
      "        Number of stacked Vector Observation: 3\n",
      "        Vector Action space type: continuous\n",
      "        Vector Action space size (per agent): 2\n",
      "        Vector Action descriptions: , \n"
     ]
    }
   ],
   "source": [
    "TestRunner(agent_config,\n",
    "           env_path=\"./Tennis_Linux/Tennis.x86_64\",\n",
    "           checkpoint_path=\"./checkpoints\").run()"
   ]
  },
  {
   "cell_type": "markdown",
   "metadata": {},
   "source": [
    "![Tested Agent](tennis-trained-agent-demo.gif)"
   ]
  },
  {
   "cell_type": "markdown",
   "metadata": {},
   "source": [
    "### 9. Implementation details"
   ]
  },
  {
   "cell_type": "markdown",
   "metadata": {},
   "source": [
    "For solving The Tennis environment I've selected MADDPG method - Multi Agent DDPG from the [paper](https://arxiv.org/pdf/1706.02275.pdf).\n",
    "\n",
    "  MADDPG is adaptation of DDPG to a multi-agent domain. The DDPG is well described in the report - [continous control project](https://github.com/ktatarnikov/continuous_control/blob/master/Report.ipynb). Below I briefly mention keypoints.\n",
    " \n",
    "  DDPG implements actor-critic schema where both actor and critic are DQN style networks that have local/target pairs. Actor network learns what action action to take given the environment state and critic network is used to tell how good is the action taken and how to improve. Local/Target networks are required to help giving consistent targets and stabilize learning process.\n",
    "  \n",
    "  **How is DDPG adopted to multi agent domain.** \n",
    "  \n",
    "  There are multiple (two) agents instead of one that act adversarially against each other, learn and improve. There are several problems preventing the use of just 2 independent DDPG agents against each other straight away - the evolution of agent policies with the time and the non stationarity of environment from the perspective of single agent. MADDPG is a an approach to tackle these issues. \n",
    "  \n",
    " The approach has the following features: \n",
    " - policy network of an agent remains the same, it gets agent observations as input and produce agent action. (In order to allow exploration - a bit of noise added the the action in the same way as with DDPG agent)\n",
    " - The learning is centralized meaning that the critic network gets states and actions of all agents as input. Thus, the critic network takes into account policies of other agents. The network itself is dublicated in each agent. During execution the critic network is not used. (please see the diagram below).\n",
    " \n",
    "![MADDPG Algorithm](./MADDPG.png?=100px)\n",
    "\n",
    "(Image source: [Multi-Agent Actor-Critic for Mixed\n",
    "Cooperative-Competitive Environments](https://arxiv.org/pdf/1706.02275.pdf))\n",
    "\n",
    "From the code perspective I have managed to reuse the most of the agent code from my [continous-control](https://github.com/ktatarnikov/continuous_control) project. Thus, the DDPGAgent, experience ReplayBuffer, random noise (OUNoise), training and testing loops are almost the same. What is different? it is the new MultiAgent class that combines multiple agents and executes policy learning.\n",
    "\n",
    "\n"
   ]
  },
  {
   "cell_type": "markdown",
   "metadata": {},
   "source": [
    "### 10. Future Improvements\n",
    "- Replay buffer prioritization can help sampling the most important transitions\n",
    "- Using different approach like PPO or A2C"
   ]
  },
  {
   "cell_type": "code",
   "execution_count": null,
   "metadata": {},
   "outputs": [],
   "source": []
  }
 ],
 "metadata": {
  "kernelspec": {
   "display_name": "Python 3",
   "language": "python",
   "name": "python3"
  },
  "language_info": {
   "codemirror_mode": {
    "name": "ipython",
    "version": 3
   },
   "file_extension": ".py",
   "mimetype": "text/x-python",
   "name": "python",
   "nbconvert_exporter": "python",
   "pygments_lexer": "ipython3",
   "version": "3.6.11"
  }
 },
 "nbformat": 4,
 "nbformat_minor": 2
}
